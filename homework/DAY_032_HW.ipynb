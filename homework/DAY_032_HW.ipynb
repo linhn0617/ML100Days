{
 "cells": [
  {
   "cell_type": "code",
   "execution_count": 1,
   "metadata": {},
   "outputs": [],
   "source": [
    "import numpy as np\n",
    "import pandas as pd\n",
    "from scipy import stats\n",
    "import math\n",
    "import statistics\n",
    "import seaborn as sns"
   ]
  },
  {
   "cell_type": "code",
   "execution_count": 5,
   "metadata": {},
   "outputs": [
    {
     "name": "stdout",
     "output_type": "stream",
     "text": [
      "標準常態分配，小於 1 的機率 :  0.8413447460685429\n"
     ]
    }
   ],
   "source": [
    "# 作業一\n",
    "probs =  stats.norm.cdf(1,0,1)\n",
    "print('標準常態分配，小於 1 的機率 : ',probs)"
   ]
  },
  {
   "cell_type": "code",
   "execution_count": 11,
   "metadata": {},
   "outputs": [
    {
     "name": "stdout",
     "output_type": "stream",
     "text": [
      "標準常態分配，大於1，小於 -1 的機率 :  0.31731050786291415\n"
     ]
    }
   ],
   "source": [
    "# 作業二\n",
    "prob2 =  stats.norm.cdf(-1,0,1)\n",
    "print('標準常態分配，大於1，小於 -1 的機率 : ',prob2*2)"
   ]
  },
  {
   "cell_type": "code",
   "execution_count": 13,
   "metadata": {},
   "outputs": [
    {
     "name": "stdout",
     "output_type": "stream",
     "text": [
      "常態分配，平均數為2,變異數為 4，X 小於 6 的機率 :  0.9772498680518208\n"
     ]
    }
   ],
   "source": [
    "# 作業三\n",
    "mu = 2\n",
    "sigma = 4**(0.5)\n",
    "prob3 = stats.norm.cdf(6,mu,sigma)\n",
    "print('常態分配，平均數為2,變異數為 4，X 小於 6 的機率 : ',prob3)"
   ]
  }
 ],
 "metadata": {
  "kernelspec": {
   "display_name": "Python 3",
   "language": "python",
   "name": "python3"
  },
  "language_info": {
   "codemirror_mode": {
    "name": "ipython",
    "version": 3
   },
   "file_extension": ".py",
   "mimetype": "text/x-python",
   "name": "python",
   "nbconvert_exporter": "python",
   "pygments_lexer": "ipython3",
   "version": "3.8.5"
  }
 },
 "nbformat": 4,
 "nbformat_minor": 4
}
