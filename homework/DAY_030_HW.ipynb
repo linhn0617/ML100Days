{
  "nbformat": 4,
  "nbformat_minor": 0,
  "metadata": {
    "colab": {
      "name": "DAY_030_HW",
      "provenance": []
    },
    "kernelspec": {
      "name": "python3",
      "display_name": "Python 3"
    },
    "language_info": {
      "name": "python"
    }
  },
  "cells": [
    {
      "cell_type": "code",
      "metadata": {
        "id": "wUMcN3XgIdmE"
      },
      "source": [
        "# 第一題： 二項式分配"
      ],
      "execution_count": 1,
      "outputs": []
    },
    {
      "cell_type": "code",
      "metadata": {
        "colab": {
          "base_uri": "https://localhost:8080/"
        },
        "id": "M81eM9EVI829",
        "outputId": "d416fe98-21b3-4112-e395-e0d0516eba18"
      },
      "source": [
        "import pylab as pl\n",
        "import numpy as np\n",
        "from scipy import stats\n",
        "n=100\n",
        "p = 0.5\n",
        "k= 50\n",
        "pcoin=stats.binom.pmf(50,100,0.5)\n",
        "print(pcoin)"
      ],
      "execution_count": 4,
      "outputs": [
        {
          "output_type": "stream",
          "text": [
            "0.07958923738717888\n"
          ],
          "name": "stdout"
        }
      ]
    }
  ]
}