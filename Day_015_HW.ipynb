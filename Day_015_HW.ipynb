{
  "nbformat": 4,
  "nbformat_minor": 0,
  "metadata": {
    "colab": {
      "name": "Day_015_HW",
      "provenance": [],
      "authorship_tag": "ABX9TyPc6KcCYf5EHmHzu4WW6eqp",
      "include_colab_link": true
    },
    "kernelspec": {
      "name": "python3",
      "display_name": "Python 3"
    }
  },
  "cells": [
    {
      "cell_type": "markdown",
      "metadata": {
        "id": "view-in-github",
        "colab_type": "text"
      },
      "source": [
        "<a href=\"https://colab.research.google.com/github/linhn0617/ML100Days/blob/main/Day_015_HW.ipynb\" target=\"_parent\"><img src=\"https://colab.research.google.com/assets/colab-badge.svg\" alt=\"Open In Colab\"/></a>"
      ]
    },
    {
      "cell_type": "code",
      "metadata": {
        "id": "-aMay98hi2iZ"
      },
      "source": [
        "import pandas as pd\r\n",
        "import numpy as np"
      ],
      "execution_count": null,
      "outputs": []
    },
    {
      "cell_type": "code",
      "metadata": {
        "id": "AmHIoSl2jIJ5"
      },
      "source": [
        "score_df = pd.DataFrame([[1,50,80,70,'boy',1],[2,60,45,50,'boy',2],[3,98,43,55,'boy',1],[4,70,69,89,'boy',2],[5,56,79,60,'girl',1],[6,60,68,55,'girl',2],[7,45,70,77,'girl',1],[8,55,77,76,'girl',2],[9,25,57,60,'girl',1],[10,88,40,43,'girl',3],[11,25,60,45,'boy',3],[12,80,60,23,'boy',3],[13,20,90,66,'girl',3],[14,50,50,50,'girl',3],[15,89,67,77,'girl',3]],columns=['student_id','math_score','english_score','chinese_score','sex','class'])"
      ],
      "execution_count": null,
      "outputs": []
    },
    {
      "cell_type": "code",
      "metadata": {
        "colab": {
          "base_uri": "https://localhost:8080/",
          "height": 487
        },
        "id": "FSLV5qIkjPag",
        "outputId": "bbfd1909-6ab0-4919-954b-13be6056a906"
      },
      "source": [
        "score_df"
      ],
      "execution_count": null,
      "outputs": [
        {
          "output_type": "execute_result",
          "data": {
            "text/html": [
              "<div>\n",
              "<style scoped>\n",
              "    .dataframe tbody tr th:only-of-type {\n",
              "        vertical-align: middle;\n",
              "    }\n",
              "\n",
              "    .dataframe tbody tr th {\n",
              "        vertical-align: top;\n",
              "    }\n",
              "\n",
              "    .dataframe thead th {\n",
              "        text-align: right;\n",
              "    }\n",
              "</style>\n",
              "<table border=\"1\" class=\"dataframe\">\n",
              "  <thead>\n",
              "    <tr style=\"text-align: right;\">\n",
              "      <th></th>\n",
              "      <th>student_id</th>\n",
              "      <th>math_score</th>\n",
              "      <th>english_score</th>\n",
              "      <th>chinese_score</th>\n",
              "      <th>sex</th>\n",
              "      <th>class</th>\n",
              "    </tr>\n",
              "  </thead>\n",
              "  <tbody>\n",
              "    <tr>\n",
              "      <th>0</th>\n",
              "      <td>1</td>\n",
              "      <td>50</td>\n",
              "      <td>80</td>\n",
              "      <td>70</td>\n",
              "      <td>boy</td>\n",
              "      <td>1</td>\n",
              "    </tr>\n",
              "    <tr>\n",
              "      <th>1</th>\n",
              "      <td>2</td>\n",
              "      <td>60</td>\n",
              "      <td>45</td>\n",
              "      <td>50</td>\n",
              "      <td>boy</td>\n",
              "      <td>2</td>\n",
              "    </tr>\n",
              "    <tr>\n",
              "      <th>2</th>\n",
              "      <td>3</td>\n",
              "      <td>98</td>\n",
              "      <td>43</td>\n",
              "      <td>55</td>\n",
              "      <td>boy</td>\n",
              "      <td>1</td>\n",
              "    </tr>\n",
              "    <tr>\n",
              "      <th>3</th>\n",
              "      <td>4</td>\n",
              "      <td>70</td>\n",
              "      <td>69</td>\n",
              "      <td>89</td>\n",
              "      <td>boy</td>\n",
              "      <td>2</td>\n",
              "    </tr>\n",
              "    <tr>\n",
              "      <th>4</th>\n",
              "      <td>5</td>\n",
              "      <td>56</td>\n",
              "      <td>79</td>\n",
              "      <td>60</td>\n",
              "      <td>girl</td>\n",
              "      <td>1</td>\n",
              "    </tr>\n",
              "    <tr>\n",
              "      <th>5</th>\n",
              "      <td>6</td>\n",
              "      <td>60</td>\n",
              "      <td>68</td>\n",
              "      <td>55</td>\n",
              "      <td>girl</td>\n",
              "      <td>2</td>\n",
              "    </tr>\n",
              "    <tr>\n",
              "      <th>6</th>\n",
              "      <td>7</td>\n",
              "      <td>45</td>\n",
              "      <td>70</td>\n",
              "      <td>77</td>\n",
              "      <td>girl</td>\n",
              "      <td>1</td>\n",
              "    </tr>\n",
              "    <tr>\n",
              "      <th>7</th>\n",
              "      <td>8</td>\n",
              "      <td>55</td>\n",
              "      <td>77</td>\n",
              "      <td>76</td>\n",
              "      <td>girl</td>\n",
              "      <td>2</td>\n",
              "    </tr>\n",
              "    <tr>\n",
              "      <th>8</th>\n",
              "      <td>9</td>\n",
              "      <td>25</td>\n",
              "      <td>57</td>\n",
              "      <td>60</td>\n",
              "      <td>girl</td>\n",
              "      <td>1</td>\n",
              "    </tr>\n",
              "    <tr>\n",
              "      <th>9</th>\n",
              "      <td>10</td>\n",
              "      <td>88</td>\n",
              "      <td>40</td>\n",
              "      <td>43</td>\n",
              "      <td>girl</td>\n",
              "      <td>3</td>\n",
              "    </tr>\n",
              "    <tr>\n",
              "      <th>10</th>\n",
              "      <td>11</td>\n",
              "      <td>25</td>\n",
              "      <td>60</td>\n",
              "      <td>45</td>\n",
              "      <td>boy</td>\n",
              "      <td>3</td>\n",
              "    </tr>\n",
              "    <tr>\n",
              "      <th>11</th>\n",
              "      <td>12</td>\n",
              "      <td>80</td>\n",
              "      <td>60</td>\n",
              "      <td>23</td>\n",
              "      <td>boy</td>\n",
              "      <td>3</td>\n",
              "    </tr>\n",
              "    <tr>\n",
              "      <th>12</th>\n",
              "      <td>13</td>\n",
              "      <td>20</td>\n",
              "      <td>90</td>\n",
              "      <td>66</td>\n",
              "      <td>girl</td>\n",
              "      <td>3</td>\n",
              "    </tr>\n",
              "    <tr>\n",
              "      <th>13</th>\n",
              "      <td>14</td>\n",
              "      <td>50</td>\n",
              "      <td>50</td>\n",
              "      <td>50</td>\n",
              "      <td>girl</td>\n",
              "      <td>3</td>\n",
              "    </tr>\n",
              "    <tr>\n",
              "      <th>14</th>\n",
              "      <td>15</td>\n",
              "      <td>89</td>\n",
              "      <td>67</td>\n",
              "      <td>77</td>\n",
              "      <td>girl</td>\n",
              "      <td>3</td>\n",
              "    </tr>\n",
              "  </tbody>\n",
              "</table>\n",
              "</div>"
            ],
            "text/plain": [
              "    student_id  math_score  english_score  chinese_score   sex  class\n",
              "0            1          50             80             70   boy      1\n",
              "1            2          60             45             50   boy      2\n",
              "2            3          98             43             55   boy      1\n",
              "3            4          70             69             89   boy      2\n",
              "4            5          56             79             60  girl      1\n",
              "5            6          60             68             55  girl      2\n",
              "6            7          45             70             77  girl      1\n",
              "7            8          55             77             76  girl      2\n",
              "8            9          25             57             60  girl      1\n",
              "9           10          88             40             43  girl      3\n",
              "10          11          25             60             45   boy      3\n",
              "11          12          80             60             23   boy      3\n",
              "12          13          20             90             66  girl      3\n",
              "13          14          50             50             50  girl      3\n",
              "14          15          89             67             77  girl      3"
            ]
          },
          "metadata": {
            "tags": []
          },
          "execution_count": 3
        }
      ]
    },
    {
      "cell_type": "code",
      "metadata": {
        "colab": {
          "base_uri": "https://localhost:8080/"
        },
        "id": "tquZDdA4jg_o",
        "outputId": "2135bbdc-8499-44f3-e7e6-f4c35166fc2f"
      },
      "source": [
        "# 第一題\r\n",
        "print('數學最高分:',score_df['math_score'].max(),'最低分:',score_df['math_score'].min())\r\n",
        "print('英文最高分:',score_df['english_score'].max(),'最低分:',score_df['english_score'].min())\r\n",
        "print('國文最高分:',score_df['chinese_score'].max(),'最低分:',score_df['chinese_score'].min())"
      ],
      "execution_count": 26,
      "outputs": [
        {
          "output_type": "stream",
          "text": [
            "數學最高分: 98 最低分: 20\n",
            "英文最高分: 90 最低分: 40\n",
            "國文最高分: 89 最低分: 23\n"
          ],
          "name": "stdout"
        }
      ]
    },
    {
      "cell_type": "code",
      "metadata": {
        "colab": {
          "base_uri": "https://localhost:8080/",
          "height": 164
        },
        "id": "qYLYXWmTmqY6",
        "outputId": "957d4d9c-e8f9-422f-db20-976b5695afce"
      },
      "source": [
        "# 第二題\r\n",
        "score_df.groupby(\"class\").mean()\r\n",
        "# 2班平均分數最高"
      ],
      "execution_count": null,
      "outputs": [
        {
          "output_type": "execute_result",
          "data": {
            "text/html": [
              "<div>\n",
              "<style scoped>\n",
              "    .dataframe tbody tr th:only-of-type {\n",
              "        vertical-align: middle;\n",
              "    }\n",
              "\n",
              "    .dataframe tbody tr th {\n",
              "        vertical-align: top;\n",
              "    }\n",
              "\n",
              "    .dataframe thead th {\n",
              "        text-align: right;\n",
              "    }\n",
              "</style>\n",
              "<table border=\"1\" class=\"dataframe\">\n",
              "  <thead>\n",
              "    <tr style=\"text-align: right;\">\n",
              "      <th></th>\n",
              "      <th>student_id</th>\n",
              "      <th>math_score</th>\n",
              "      <th>english_score</th>\n",
              "      <th>chinese_score</th>\n",
              "    </tr>\n",
              "    <tr>\n",
              "      <th>class</th>\n",
              "      <th></th>\n",
              "      <th></th>\n",
              "      <th></th>\n",
              "      <th></th>\n",
              "    </tr>\n",
              "  </thead>\n",
              "  <tbody>\n",
              "    <tr>\n",
              "      <th>1</th>\n",
              "      <td>5.0</td>\n",
              "      <td>54.800000</td>\n",
              "      <td>65.800000</td>\n",
              "      <td>64.400000</td>\n",
              "    </tr>\n",
              "    <tr>\n",
              "      <th>2</th>\n",
              "      <td>5.0</td>\n",
              "      <td>61.250000</td>\n",
              "      <td>64.750000</td>\n",
              "      <td>67.500000</td>\n",
              "    </tr>\n",
              "    <tr>\n",
              "      <th>3</th>\n",
              "      <td>12.5</td>\n",
              "      <td>58.666667</td>\n",
              "      <td>61.166667</td>\n",
              "      <td>50.666667</td>\n",
              "    </tr>\n",
              "  </tbody>\n",
              "</table>\n",
              "</div>"
            ],
            "text/plain": [
              "       student_id  math_score  english_score  chinese_score\n",
              "class                                                      \n",
              "1             5.0   54.800000      65.800000      64.400000\n",
              "2             5.0   61.250000      64.750000      67.500000\n",
              "3            12.5   58.666667      61.166667      50.666667"
            ]
          },
          "metadata": {
            "tags": []
          },
          "execution_count": 18
        }
      ]
    },
    {
      "cell_type": "code",
      "metadata": {
        "colab": {
          "base_uri": "https://localhost:8080/"
        },
        "id": "UaekZyCWnxQt",
        "outputId": "d4cc417a-0ea7-4017-d1ed-2e5f56e45a4b"
      },
      "source": [
        "# 第三題\r\n",
        "ans3 = score_df.groupby(\"sex\").chinese_score.mean()\r\n",
        "print(ans3)\r\n",
        "print('女生與男生國文分數相差:',ans3['girl']-ans3['boy'])"
      ],
      "execution_count": 25,
      "outputs": [
        {
          "output_type": "stream",
          "text": [
            "sex\n",
            "boy     55.333333\n",
            "girl    62.666667\n",
            "Name: chinese_score, dtype: float64\n",
            "女生與男生國文分數相差: 7.333333333333329\n"
          ],
          "name": "stdout"
        }
      ]
    }
  ]
}